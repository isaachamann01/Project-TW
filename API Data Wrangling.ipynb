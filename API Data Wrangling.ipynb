{
 "cells": [
  {
   "cell_type": "code",
   "execution_count": 1,
   "metadata": {},
   "outputs": [],
   "source": [
    "from binance.client import Client\n",
    "import pandas as pd\n",
    "\n",
    "# Initialize the client\n",
    "client = Client()\n",
    "\n",
    "# Get klines\n",
    "klines = client.get_klines(symbol='BTCUSDT', interval=Client.KLINE_INTERVAL_1MINUTE)"
   ]
  },
  {
   "cell_type": "code",
   "execution_count": 2,
   "metadata": {},
   "outputs": [],
   "source": [
    "df = pd.DataFrame(klines, columns=['Open time', 'Open', 'High', 'Low', 'Close', 'Volume', 'Close time', 'Quote asset volume', 'Number of trades', 'Taker buy base asset volume', 'Taker buy quote asset volume', 'Ignore'])"
   ]
  },
  {
   "cell_type": "code",
   "execution_count": 7,
   "metadata": {},
   "outputs": [],
   "source": [
    "import mysql.connector\n",
    "\n",
    "# Establish a connection to the MySQL database\n",
    "cnx = mysql.connector.connect(\n",
    "    host='localhost',\n",
    "    user='root',\n",
    "    password='Awesomenes02!',\n",
    "    database='stocks'\n",
    ")\n",
    "\n",
    "# Create a cursor object to execute SQL queries\n",
    "cursor = cnx.cursor()\n",
    "\n",
    "query = \"DROP TABLE IF EXISTS stocks\"\n",
    "\n",
    "# Execute the SQL query\n",
    "cursor.execute(query)\n",
    "cnx.commit()"
   ]
  },
  {
   "cell_type": "code",
   "execution_count": 10,
   "metadata": {
    "vscode": {
     "languageId": "ruby"
    }
   },
   "outputs": [],
   "source": [
    "query = '''\n",
    "    CREATE TABLE IF NOT EXISTS stocks (\n",
    "    id INT AUTO_INCREMENT PRIMARY KEY,\n",
    "    opentime    bigint,\n",
    "    open        float,\n",
    "    high        float,\n",
    "    low         float,\n",
    "    close       float,\n",
    "    volume      float,\n",
    "    closetime   bigint\n",
    "    )\n",
    "'''\n",
    "\n",
    "cursor.execute(query)\n"
   ]
  },
  {
   "cell_type": "code",
   "execution_count": 5,
   "metadata": {
    "vscode": {
     "languageId": "ruby"
    }
   },
   "outputs": [],
   "source": [
    "\n",
    "\n",
    "query = '''\n",
    "    CREATE TABLE IF NOT EXISTS stocks (\n",
    "    id INT AUTO_INCREMENT PRIMARY KEY,\n",
    "    opentime    bigint,\n",
    "    open        float,\n",
    "    high        float,\n",
    "    low         float,\n",
    "    close       float,\n",
    "    volume      float,\n",
    "    closetime   bigint\n",
    "    )\n",
    "'''\n",
    "\n",
    "cursor.execute(query)\n",
    "\n",
    "# Define the SQL query to insert the entries\n",
    "query = \"INSERT INTO stocks (opentime, open, high, low, close, volume, closetime) VALUES (%s, %s, %s, %s, %s, %s, %s)\"\n",
    "\n",
    "# Convert the DataFrame to a list of tuples\n",
    "entries = df[['Open time', 'Open', 'High', 'Low', 'Close', 'Volume', 'Close time']].values.tolist()\n",
    "\n",
    "# Execute the SQL query for each entryy\n",
    "cursor.executemany(query, entries)\n",
    "\n",
    "# Commit the changes to the databasee\n",
    "cnx.commit()"
   ]
  },
  {
   "cell_type": "code",
   "execution_count": null,
   "metadata": {},
   "outputs": [],
   "source": [
    "# Define the SQL query to select all records\n",
    "query = \"SELECT * FROM stocks\"\n",
    "\n",
    "# Execute the SQL query\n",
    "cursor.execute(query)\n",
    "\n",
    "# Fetch all the records\n",
    "records = cursor.fetchall()\n",
    "\n",
    "# Print the records\n",
    "for record in records:\n",
    "    print(record)"
   ]
  },
  {
   "cell_type": "code",
   "execution_count": 12,
   "metadata": {},
   "outputs": [],
   "source": [
    "from datetime import datetime\n",
    "from datetime import timedelta\n",
    "\n",
    "# Define the SQL query to insert the entries\n",
    "query = \"INSERT INTO stocks (opentime, open, high, low, close, volume, closetime) VALUES (%s, %s, %s, %s, %s, %s, %s)\"\n",
    "\n",
    "def format_datetime(date):\n",
    "    return date.strftime('%-d %b, %Y')\n",
    "\n",
    "startdate = datetime.strptime('1 Jul, 2020', '%d %b, %Y')\n",
    "\n",
    "for i in range(0, 30):\n",
    "    # Calculate the end date by adding 1 month to the start date\n",
    "    enddate = startdate + timedelta(days=30)\n",
    "    \n",
    "    # Get the latest klines\n",
    "    klines = client.get_historical_klines('BTCUSDT', client.KLINE_INTERVAL_1MINUTE, startdate.strftime('%d %b, %Y'), enddate.strftime('%d %b, %Y'))\n",
    "    \n",
    "    # Convert the klines to a DataFrame\n",
    "    df = pd.DataFrame(klines, columns=['Open time', 'Open', 'High', 'Low', 'Close', 'Volume', 'Close time', 'Quote asset volume', 'Number of trades', 'Taker buy base asset volume', 'Taker buy quote asset volume', 'Ignore'])\n",
    "    \n",
    "    # Convert the DataFrame to a list of tuples\n",
    "    entries = df[['Open time', 'Open', 'High', 'Low', 'Close', 'Volume', 'Close time']].values.tolist()\n",
    "    \n",
    "    # Execute the SQL query for each entry\n",
    "    cursor.executemany(query, entries)\n",
    "    \n",
    "    # Commit the changes to the database\n",
    "    cnx.commit()\n",
    "    \n",
    "    # Update the start date for the next iteration\n",
    "    startdate = enddate\n"
   ]
  },
  {
   "cell_type": "code",
   "execution_count": 13,
   "metadata": {},
   "outputs": [
    {
     "name": "stdout",
     "output_type": "stream",
     "text": [
      "              id       opentime      open      high       low     close  \\\n",
      "0              1  1577836800000   7195.24   7196.25   7183.14   7186.68   \n",
      "1              2  1577836860000   7187.67   7188.06   7182.20   7184.03   \n",
      "2              3  1577836920000   7184.41   7184.71   7180.26   7182.43   \n",
      "3              4  1577836980000   7183.83   7188.94   7182.49   7185.94   \n",
      "4              5  1577837040000   7185.54   7185.54   7178.64   7179.78   \n",
      "...          ...            ...       ...       ...       ...       ...   \n",
      "1552964  1552965  1671321360000  16789.20  16791.00  16777.80  16780.50   \n",
      "1552965  1552966  1671321420000  16780.50  16782.50  16776.30  16780.90   \n",
      "1552966  1552967  1671321480000  16780.30  16782.70  16775.00  16779.30   \n",
      "1552967  1552968  1671321540000  16778.60  16779.80  16775.40  16776.50   \n",
      "1552968  1552969  1671321600000  16777.50  16783.40  16775.20  16779.40   \n",
      "\n",
      "            volume      closetime  \n",
      "0         51.64280  1577836859999  \n",
      "1          7.24815  1577836919999  \n",
      "2         11.68170  1577836979999  \n",
      "3         10.02540  1577837039999  \n",
      "4         14.91110  1577837099999  \n",
      "...            ...            ...  \n",
      "1552964   94.53120  1671321419999  \n",
      "1552965   52.70450  1671321479999  \n",
      "1552966   64.66950  1671321539999  \n",
      "1552967   27.79170  1671321599999  \n",
      "1552968  118.11000  1671321659999  \n",
      "\n",
      "[1552969 rows x 8 columns]\n"
     ]
    }
   ],
   "source": [
    "import pandas as pd\n",
    "\n",
    "import mysql.connector\n",
    "\n",
    "# Establish a connection to the MySQL database\n",
    "cnx = mysql.connector.connect(\n",
    "    host='localhost',\n",
    "    user='root',\n",
    "    password='Awesomenes02!',\n",
    "    database='stocks'\n",
    ")\n",
    "\n",
    "# Create a cursor object to execute SQL queries\n",
    "cursor = cnx.cursor()\n",
    "\n",
    "# Define the SQL query to select all records from the stocks table\n",
    "query = \"SELECT * FROM stocks\"\n",
    "\n",
    "# Execute the SQL query\n",
    "cursor.execute(query)\n",
    "\n",
    "# Fetch all the records\n",
    "records = cursor.fetchall()\n",
    "\n",
    "# Create a pandas dataframe from the records\n",
    "df = pd.DataFrame(records, columns=['id', 'opentime', 'open', 'high', 'low', 'close', 'volume', 'closetime'])\n",
    "\n",
    "# Close the cursor and connection\n",
    "cursor.close()\n",
    "cnx.close()\n",
    "\n",
    "# Print the dataframe\n",
    "print(df)"
   ]
  }
 ],
 "metadata": {
  "kernelspec": {
   "display_name": "myenv",
   "language": "python",
   "name": "python3"
  },
  "language_info": {
   "codemirror_mode": {
    "name": "ipython",
    "version": 3
   },
   "file_extension": ".py",
   "mimetype": "text/x-python",
   "name": "python",
   "nbconvert_exporter": "python",
   "pygments_lexer": "ipython3",
   "version": "3.11.8"
  }
 },
 "nbformat": 4,
 "nbformat_minor": 2
}
