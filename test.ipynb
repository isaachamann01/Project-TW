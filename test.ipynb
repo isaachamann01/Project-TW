{
 "cells": [
  {
   "cell_type": "code",
   "execution_count": 1,
   "metadata": {},
   "outputs": [
    {
     "name": "stderr",
     "output_type": "stream",
     "text": [
      "2024-06-20 21:17:46.655635: I tensorflow/core/platform/cpu_feature_guard.cc:182] This TensorFlow binary is optimized to use available CPU instructions in performance-critical operations.\n",
      "To enable the following instructions: SSE3 SSE4.1 SSE4.2 AVX AVX2 FMA, in other operations, rebuild TensorFlow with the appropriate compiler flags.\n"
     ]
    }
   ],
   "source": [
    "import tensorflow as tf \n",
    "import pandas as pd\n",
    "import numpy as np"
   ]
  },
  {
   "cell_type": "code",
   "execution_count": 2,
   "metadata": {},
   "outputs": [],
   "source": [
    "# First get our data for csv.\n",
    "df = pd.read_csv('StockData/BTCUSDT.csv')"
   ]
  },
  {
   "cell_type": "code",
   "execution_count": 4,
   "metadata": {},
   "outputs": [
    {
     "name": "stdout",
     "output_type": "stream",
     "text": [
      "1593561600000\n",
      "1671321600000\n"
     ]
    }
   ],
   "source": [
    "# What is the min an max date?\n",
    "\n",
    "# convert from linux date\n",
    "opentime = pd.to_datetime(df['Open time'], unit='ms')\n",
    "closetime = pd.to_datetime(df['Close time'], unit='ms')\n",
    "\n",
    "print(opentime)\n",
    "print(closetime)"
   ]
  },
  {
   "cell_type": "code",
   "execution_count": null,
   "metadata": {},
   "outputs": [],
   "source": [
    "\n",
    "#check if we can see our gpu\n",
    "print(tf.config.list_physical_devices('GPU'))\n",
    "# We can yay\n",
    "\n",
    "# This function takes a value from the data frame and returns the following:\n",
    "# 2 Dimentional Array:\n",
    "#   Each new row is a new amount of mins away to average.\n",
    "# 1 - 200. The averages for the 1st to 200th value in the data frame at the minutely level\n",
    "# 1 - 200. The averages for the 1st to 200th value in the data frame at the hourly level\n",
    "# 1 - 200. The averages for the 1st to 200th value in the data frame at the daily level\n",
    "\n",
    "def get_averages(data_frame):\n",
    "\n",
    "    # Create a list of 2D nunmpy array to store the averages\n",
    "    # 200 rows, 3 columns\n",
    "    combined_averages = list()\n",
    "\n",
    "    start_index = 200\n",
    "\n",
    "    while start_index < len(df):\n",
    "        \n",
    "\n",
    "    averages = np.zeros((200, 3))\n",
    "\n"
   ]
  },
  {
   "cell_type": "code",
   "execution_count": null,
   "metadata": {},
   "outputs": [],
   "source": []
  }
 ],
 "metadata": {
  "kernelspec": {
   "display_name": "Python 3",
   "language": "python",
   "name": "python3"
  },
  "language_info": {
   "codemirror_mode": {
    "name": "ipython",
    "version": 3
   },
   "file_extension": ".py",
   "mimetype": "text/x-python",
   "name": "python",
   "nbconvert_exporter": "python",
   "pygments_lexer": "ipython3",
   "version": "3.11.8"
  }
 },
 "nbformat": 4,
 "nbformat_minor": 2
}
