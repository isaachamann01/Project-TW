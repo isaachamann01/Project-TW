{
 "cells": [
  {
   "cell_type": "code",
   "execution_count": 1,
   "metadata": {},
   "outputs": [
    {
     "name": "stderr",
     "output_type": "stream",
     "text": [
      "2024-06-20 20:36:25.053808: I tensorflow/core/platform/cpu_feature_guard.cc:182] This TensorFlow binary is optimized to use available CPU instructions in performance-critical operations.\n",
      "To enable the following instructions: SSE3 SSE4.1 SSE4.2 AVX AVX2 FMA, in other operations, rebuild TensorFlow with the appropriate compiler flags.\n"
     ]
    }
   ],
   "source": [
    "import tensorflow"
   ]
  },
  {
   "cell_type": "code",
   "execution_count": 1,
   "metadata": {},
   "outputs": [],
   "source": [
    "from datetime import datetime\n",
    "from datetime import timedelta\n",
    "from binance.client import Client\n",
    "import pandas as pd\n",
    "\n",
    "# Initialize the client\n",
    "client = Client()\n",
    "\n",
    "def format_datetime(date):\n",
    "    return date.strftime('%-d %b, %Y')\n",
    "\n",
    "startdate = datetime.strptime('1 Jul, 2017', '%d %b, %Y')\n",
    "\n",
    "df = pd.DataFrame(columns=['Open time', 'Open', 'High', 'Low', 'Close', 'Volume', 'Close time', 'Quote asset volume', 'Number of trades', 'Taker buy base asset volume', 'Taker buy quote asset volume', 'Ignore'])\n",
    "\n",
    "for i in range(0, 80):\n",
    "    # Calculate the end date by adding 1 month to the start date\n",
    "    enddate = startdate + timedelta(days=30)\n",
    "    \n",
    "    # Get the latest klines\n",
    "    klines = client.get_historical_klines('BTCUSDT', client.KLINE_INTERVAL_1MINUTE, startdate.strftime('%d %b, %Y'), enddate.strftime('%d %b, %Y'))\n",
    "    \n",
    "    #add kilnes to df\n",
    "    df = pd.concat([df, pd.DataFrame(klines, columns=['Open time', 'Open', 'High', 'Low', 'Close', 'Volume', 'Close time', 'Quote asset volume', 'Number of trades', 'Taker buy base asset volume', 'Taker buy quote asset volume', 'Ignore'])], ignore_index=True)\n",
    "    \n",
    "    # Update the start date for the next iteration\n",
    "    startdate = enddate\n",
    "\n",
    "# Write the data to a CSV file in the folder stockdata\n",
    "df.to_csv('BTCUSDT.csv', index=False)"
   ]
  },
  {
   "cell_type": "code",
   "execution_count": 2,
   "metadata": {},
   "outputs": [],
   "source": [
    "df.to_csv('StockData/BTCUSDT.csv', index=False)"
   ]
  }
 ],
 "metadata": {
  "kernelspec": {
   "display_name": "Python 3",
   "language": "python",
   "name": "python3"
  },
  "language_info": {
   "codemirror_mode": {
    "name": "ipython",
    "version": 3
   },
   "file_extension": ".py",
   "mimetype": "text/x-python",
   "name": "python",
   "nbconvert_exporter": "python",
   "pygments_lexer": "ipython3",
   "version": "3.12.3"
  }
 },
 "nbformat": 4,
 "nbformat_minor": 2
}
