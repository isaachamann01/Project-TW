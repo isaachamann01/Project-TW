{
 "cells": [
  {
   "cell_type": "code",
   "execution_count": 1,
   "metadata": {},
   "outputs": [
    {
     "name": "stderr",
     "output_type": "stream",
     "text": [
      "2024-07-16 23:28:10.643723: E external/local_xla/xla/stream_executor/cuda/cuda_fft.cc:479] Unable to register cuFFT factory: Attempting to register factory for plugin cuFFT when one has already been registered\n",
      "2024-07-16 23:28:10.660202: E external/local_xla/xla/stream_executor/cuda/cuda_dnn.cc:10575] Unable to register cuDNN factory: Attempting to register factory for plugin cuDNN when one has already been registered\n",
      "2024-07-16 23:28:10.660246: E external/local_xla/xla/stream_executor/cuda/cuda_blas.cc:1442] Unable to register cuBLAS factory: Attempting to register factory for plugin cuBLAS when one has already been registered\n",
      "2024-07-16 23:28:10.672150: I tensorflow/core/platform/cpu_feature_guard.cc:210] This TensorFlow binary is optimized to use available CPU instructions in performance-critical operations.\n",
      "To enable the following instructions: AVX2 FMA, in other operations, rebuild TensorFlow with the appropriate compiler flags.\n",
      "2024-07-16 23:28:11.246141: W tensorflow/compiler/tf2tensorrt/utils/py_utils.cc:38] TF-TRT Warning: Could not find TensorRT\n"
     ]
    }
   ],
   "source": [
    "import tensorflow as tf \n",
    "import pandas as pd\n",
    "import numpy as np"
   ]
  },
  {
   "cell_type": "code",
   "execution_count": 2,
   "metadata": {},
   "outputs": [],
   "source": [
    "# First get our data for csv.\n",
    "df = pd.read_csv('BTCUSDT.csv')"
   ]
  },
  {
   "cell_type": "code",
   "execution_count": 14,
   "metadata": {},
   "outputs": [],
   "source": [
    "# Gets all of our averages.\n",
    "\n",
    "def get_averages(data):\n",
    "\n",
    "    # only take close and open and time\n",
    "    data = data[['Close', 'Open', 'Open time']]\n",
    "\n",
    "    data['MA15'] = data['Close'].rolling(window=5).mean()\n",
    "\n",
    "    # data['MA20'] = data['Close'].rolling(window=20).mean()\n",
    "\n",
    "    data['MA60'] = data['Close'].rolling(window=60).mean()\n",
    "\n",
    "    # data['MA720'] = data['Close'].rolling(window=720).mean()\n",
    "\n",
    "    data['MA1440'] = data['Close'].rolling(window=1440).mean()\n",
    "\n",
    "    data['MA10080'] = data['Close'].rolling(window=10080).mean()\n",
    "\n",
    "    # data['MA131400'] = data['Close'].rolling(window=131400).mean()\n",
    "\n",
    "    # Drop if even one of the values is na\n",
    "    data = data.dropna()\n",
    "\n",
    "    newdata = data[['Close', 'MA15', 'MA60', 'MA1440', 'MA10080']].values\n",
    "\n",
    "    return newdata\n"
   ]
  },
  {
   "cell_type": "code",
   "execution_count": 15,
   "metadata": {},
   "outputs": [
    {
     "name": "stderr",
     "output_type": "stream",
     "text": [
      "/tmp/ipykernel_3660930/2824517797.py:8: SettingWithCopyWarning: \n",
      "A value is trying to be set on a copy of a slice from a DataFrame.\n",
      "Try using .loc[row_indexer,col_indexer] = value instead\n",
      "\n",
      "See the caveats in the documentation: https://pandas.pydata.org/pandas-docs/stable/user_guide/indexing.html#returning-a-view-versus-a-copy\n",
      "  data['MA15'] = data['Close'].rolling(window=5).mean()\n",
      "/tmp/ipykernel_3660930/2824517797.py:12: SettingWithCopyWarning: \n",
      "A value is trying to be set on a copy of a slice from a DataFrame.\n",
      "Try using .loc[row_indexer,col_indexer] = value instead\n",
      "\n",
      "See the caveats in the documentation: https://pandas.pydata.org/pandas-docs/stable/user_guide/indexing.html#returning-a-view-versus-a-copy\n",
      "  data['MA60'] = data['Close'].rolling(window=60).mean()\n",
      "/tmp/ipykernel_3660930/2824517797.py:16: SettingWithCopyWarning: \n",
      "A value is trying to be set on a copy of a slice from a DataFrame.\n",
      "Try using .loc[row_indexer,col_indexer] = value instead\n",
      "\n",
      "See the caveats in the documentation: https://pandas.pydata.org/pandas-docs/stable/user_guide/indexing.html#returning-a-view-versus-a-copy\n",
      "  data['MA1440'] = data['Close'].rolling(window=1440).mean()\n",
      "/tmp/ipykernel_3660930/2824517797.py:18: SettingWithCopyWarning: \n",
      "A value is trying to be set on a copy of a slice from a DataFrame.\n",
      "Try using .loc[row_indexer,col_indexer] = value instead\n",
      "\n",
      "See the caveats in the documentation: https://pandas.pydata.org/pandas-docs/stable/user_guide/indexing.html#returning-a-view-versus-a-copy\n",
      "  data['MA10080'] = data['Close'].rolling(window=10080).mean()\n"
     ]
    }
   ],
   "source": [
    "def normalise_averages(averages):\n",
    "    \n",
    "    # get max close from data\n",
    "    max_close = averages[:, 0].max()\n",
    "    # get min close from data\n",
    "    min_close = averages[:, 0].min()\n",
    "\n",
    "    for i in range(averages.shape[1]):\n",
    "        averages[:, i] = (averages[:, i] - min_close) / (max_close - min_close)\n",
    "\n",
    "    return averages\n",
    "\n",
    "avg = get_averages(df)\n",
    "\n",
    "#print (avg.shape)\n",
    "\n",
    "avg = normalise_averages(avg)\n",
    "\n",
    "#print(avg)"
   ]
  },
  {
   "cell_type": "code",
   "execution_count": 16,
   "metadata": {},
   "outputs": [
    {
     "name": "stdout",
     "output_type": "stream",
     "text": [
      "(3369373, 60, 5)\n"
     ]
    }
   ],
   "source": [
    "def create_sequences(data, seq_length, future_steps):\n",
    "    xs = []\n",
    "    ys = []\n",
    "    for i in range(len(data)-seq_length-future_steps):\n",
    "        x = data[i:i+seq_length]\n",
    "        # y is the mean over the next future_steps entries\n",
    "        y = np.mean(data[i+seq_length:i+seq_length+future_steps, 0])\n",
    "        # print(x.shape)\n",
    "        # print(y)\n",
    "        xs.append(x)\n",
    "        ys.append(y)\n",
    "\n",
    "    return np.array(xs), np.array(ys)\n",
    "\n",
    "seq_length = 60  # Example: 50 days of past data\n",
    "future_steps = 15  # Predicting the next 5 closing prices\n",
    "\n",
    "x, y = create_sequences(avg, seq_length, future_steps)\n",
    "#print(x.shape)"
   ]
  },
  {
   "cell_type": "code",
   "execution_count": 17,
   "metadata": {},
   "outputs": [
    {
     "name": "stderr",
     "output_type": "stream",
     "text": [
      "/home/isaac/Project-TW/tf/lib/python3.12/site-packages/keras/src/layers/rnn/rnn.py:204: UserWarning: Do not pass an `input_shape`/`input_dim` argument to a layer. When using Sequential models, prefer using an `Input(shape)` object as the first layer in the model instead.\n",
      "  super().__init__(**kwargs)\n"
     ]
    }
   ],
   "source": [
    "import tensorflow as tf\n",
    "from tensorflow.keras import datasets, layers, models,losses\n",
    "\n",
    "train_size = int(len(x) * 0.8)\n",
    "x_train, x_test = x[:train_size], x[train_size:]\n",
    "y_train, y_test = y[:train_size], y[train_size:]\n",
    "\n",
    "# Now we create a RNN model\n",
    "\n",
    "# Create model\n",
    "\n",
    "model = models.Sequential()\n",
    "\n",
    "model.add(layers.LSTM(units=100, return_sequences=True, input_shape=(x_train.shape[1], 5)))\n",
    "\n",
    "model.add(layers.Dropout(0.2))\n",
    "\n",
    "model.add(layers.LSTM(units=100, return_sequences=True))\n",
    "\n",
    "model.add(layers.Dropout(0.2))\n",
    "\n",
    "model.add(layers.LSTM(units=100, return_sequences=False))\n",
    "\n",
    "model.add(layers.Dense(50))\n",
    "\n",
    "model.add(layers.Dense(1))  # Output layer with future_steps units\n",
    "\n",
    "model.compile(optimizer='adam',\n",
    "              loss=losses.MeanSquaredError(),\n",
    "              metrics=[losses.MeanAbsoluteError()])\n"
   ]
  },
  {
   "cell_type": "code",
   "execution_count": 18,
   "metadata": {},
   "outputs": [
    {
     "name": "stdout",
     "output_type": "stream",
     "text": [
      "Epoch 1/3\n",
      "\u001b[1m84235/84235\u001b[0m \u001b[32m━━━━━━━━━━━━━━━━━━━━\u001b[0m\u001b[37m\u001b[0m \u001b[1m1031s\u001b[0m 12ms/step - loss: 8.9278e-05 - mean_absolute_error: 0.0046 - val_loss: 4.1585e-05 - val_mean_absolute_error: 0.0062\n",
      "Epoch 2/3\n",
      "\u001b[1m84235/84235\u001b[0m \u001b[32m━━━━━━━━━━━━━━━━━━━━\u001b[0m\u001b[37m\u001b[0m \u001b[1m1052s\u001b[0m 12ms/step - loss: 8.7885e-06 - mean_absolute_error: 0.0021 - val_loss: 4.9199e-06 - val_mean_absolute_error: 0.0021\n",
      "Epoch 3/3\n",
      "\u001b[1m84235/84235\u001b[0m \u001b[32m━━━━━━━━━━━━━━━━━━━━\u001b[0m\u001b[37m\u001b[0m \u001b[1m1053s\u001b[0m 12ms/step - loss: 6.1138e-06 - mean_absolute_error: 0.0017 - val_loss: 1.5120e-05 - val_mean_absolute_error: 0.0037\n"
     ]
    }
   ],
   "source": [
    "# More epochs\n",
    "history = model.fit(x_train, y_train, epochs=3, \n",
    "                    validation_data=(x_test, y_test))\n",
    "\n"
   ]
  },
  {
   "cell_type": "code",
   "execution_count": 19,
   "metadata": {},
   "outputs": [],
   "source": [
    "# Save the weights\n",
    "model.save('BTCUSD_close_60p_15m_rolling.keras')"
   ]
  },
  {
   "cell_type": "code",
   "execution_count": 20,
   "metadata": {},
   "outputs": [
    {
     "data": {
      "image/png": "[encoded data removed]",
      "text/plain": [
       "<Figure size 1000x600 with 1 Axes>"
      ]
     },
     "metadata": {},
     "output_type": "display_data"
    }
   ],
   "source": [
    "import matplotlib.pyplot as plt\n",
    "\n",
    "# Extract loss values from the history object\n",
    "loss = history.history['loss']\n",
    "val_loss = history.history['val_loss']\n",
    "\n",
    "# Create a range for the number of epochs\n",
    "epochs = range(1, len(loss) + 1)\n",
    "\n",
    "# Plot the loss values\n",
    "plt.figure(figsize=(10, 6))\n",
    "plt.plot(epochs, loss, 'bo-', label='Training Loss')\n",
    "plt.plot(epochs, val_loss, 'r*-', label='Validation Loss')\n",
    "plt.title('Training and Validation Loss Over Epochs')\n",
    "plt.xlabel('Epochs')\n",
    "plt.ylabel('Loss')\n",
    "plt.legend()\n",
    "plt.grid(True)\n",
    "plt.show()"
   ]
  },
  {
   "cell_type": "code",
   "execution_count": 25,
   "metadata": {},
   "outputs": [],
   "source": [
    "# save the model\n",
    "model.save('BTCUSD_close_80p_10m.keras')"
   ]
  },
  {
   "cell_type": "code",
   "execution_count": 45,
   "metadata": {},
   "outputs": [],
   "source": [
    "# Every minute for the date of 01-03-2024 we use the model to predict the mean next 5 closing prices.\n",
    "\n",
    "# First we need to get the data for that date\n",
    "df = pd.read_csv('StockData/BTCUSDT.csv')\n",
    "\n",
    "def get_averages(data):\n",
    "\n",
    "    # only take close and open\n",
    "    data = data[['Open time','Close', 'Open']]\n",
    "\n",
    "    data['MA5'] = data['Close'].rolling(window=5).mean()\n",
    "\n",
    "    data['MA20'] = data['Close'].rolling(window=20).mean()\n",
    "\n",
    "    data['MA60'] = data['Close'].rolling(window=60).mean()\n",
    "\n",
    "    data['MA10080'] = data['Close'].rolling(window=10080).mean()\n",
    "\n",
    "    # Drop if even one of the values is na\n",
    "    # data = data.dropna()\n",
    "\n",
    "    newdata = data[['Open time', 'Close', 'MA5', 'MA20', 'MA60', 'MA10080']]\n",
    "\n",
    "    return newdata\n"
   ]
  },
  {
   "cell_type": "code",
   "execution_count": 54,
   "metadata": {},
   "outputs": [
    {
     "name": "stderr",
     "output_type": "stream",
     "text": [
      "/tmp/ipykernel_10216/2879855496.py:11: SettingWithCopyWarning: \n",
      "A value is trying to be set on a copy of a slice from a DataFrame.\n",
      "Try using .loc[row_indexer,col_indexer] = value instead\n",
      "\n",
      "See the caveats in the documentation: https://pandas.pydata.org/pandas-docs/stable/user_guide/indexing.html#returning-a-view-versus-a-copy\n",
      "  data['MA5'] = data['Close'].rolling(window=5).mean()\n",
      "/tmp/ipykernel_10216/2879855496.py:13: SettingWithCopyWarning: \n",
      "A value is trying to be set on a copy of a slice from a DataFrame.\n",
      "Try using .loc[row_indexer,col_indexer] = value instead\n",
      "\n",
      "See the caveats in the documentation: https://pandas.pydata.org/pandas-docs/stable/user_guide/indexing.html#returning-a-view-versus-a-copy\n",
      "  data['MA20'] = data['Close'].rolling(window=20).mean()\n",
      "/tmp/ipykernel_10216/2879855496.py:15: SettingWithCopyWarning: \n",
      "A value is trying to be set on a copy of a slice from a DataFrame.\n",
      "Try using .loc[row_indexer,col_indexer] = value instead\n",
      "\n",
      "See the caveats in the documentation: https://pandas.pydata.org/pandas-docs/stable/user_guide/indexing.html#returning-a-view-versus-a-copy\n",
      "  data['MA60'] = data['Close'].rolling(window=60).mean()\n",
      "/tmp/ipykernel_10216/2879855496.py:17: SettingWithCopyWarning: \n",
      "A value is trying to be set on a copy of a slice from a DataFrame.\n",
      "Try using .loc[row_indexer,col_indexer] = value instead\n",
      "\n",
      "See the caveats in the documentation: https://pandas.pydata.org/pandas-docs/stable/user_guide/indexing.html#returning-a-view-versus-a-copy\n",
      "  data['MA10080'] = data['Close'].rolling(window=10080).mean()\n"
     ]
    },
    {
     "name": "stdout",
     "output_type": "stream",
     "text": [
      "[[0.60125108 0.60341201 0.60602269 0.60662421 0.64103057]\n",
      " [0.60230875 0.60348963 0.6059657  0.60656169 0.64102938]\n",
      " [0.60158107 0.60341865 0.60587351 0.60648785 0.64102812]\n",
      " [0.60149706 0.60335637 0.60577255 0.60641041 0.64102681]\n",
      " [0.60158893 0.60338766 0.60567892 0.6063368  0.64102549]\n",
      " [0.60138087 0.60341371 0.60559304 0.60625909 0.64102416]\n",
      " [0.60173791 0.60329915 0.60552887 0.60619268 0.64102288]\n",
      " [0.60207848 0.60339897 0.60548185 0.60613898 0.64102162]\n",
      " [0.60237629 0.60357541 0.60544003 0.60609539 0.64102048]\n",
      " [0.60244776 0.60374776 0.60539373 0.60604604 0.64101931]\n",
      " [0.60266141 0.60400474 0.60534101 0.60600467 0.64101822]\n",
      " [0.60287929 0.60423379 0.6053501  0.60597101 0.64101714]\n",
      " [0.60257679 0.60433379 0.6053652  0.6059517  0.64101605]\n",
      " [0.60246634 0.60435187 0.60539016 0.60592657 0.64101493]\n",
      " [0.60256607 0.60437561 0.60540854 0.60590532 0.64101385]\n",
      " [0.60347657 0.6045392  0.60547854 0.60588816 0.64101289]\n",
      " [0.60359186 0.60468219 0.60556259 0.60587713 0.64101191]\n",
      " [0.60379342 0.60492635 0.60565615 0.60588264 0.64101095]\n",
      " [0.60364595 0.60516307 0.6057487  0.60588265 0.64100995]\n",
      " [0.60362072 0.60537472 0.60585883 0.60590234 0.64100896]\n",
      " [0.60319009 0.60531723 0.60595643 0.60591705 0.64100783]\n",
      " [0.60337368 0.60527344 0.60601004 0.60591757 0.6410067 ]\n",
      " [0.60343668 0.60520185 0.60610344 0.60593099 0.6410056 ]\n",
      " [0.60271142 0.60501431 0.60616457 0.60592446 0.64100442]\n",
      " [0.60267909 0.60482534 0.60621945 0.60591584 0.64100333]\n",
      " [0.60268558 0.6047241  0.60628512 0.60591444 0.64100225]\n",
      " [0.60291963 0.60463298 0.60634461 0.60591698 0.64100123]\n",
      " [0.60278667 0.60450254 0.60638026 0.60591729 0.64100015]\n",
      " [0.60304187 0.60456885 0.60641376 0.60592188 0.64099909]\n",
      " [0.60334074 0.60470163 0.60645871 0.60594163 0.64099807]\n",
      " [0.60354018 0.60487313 0.60650295 0.60597008 0.64099705]\n",
      " [0.60348201 0.60498599 0.60653329 0.60599161 0.64099604]\n",
      " [0.60325235 0.60507944 0.60656729 0.60600508 0.64099498]\n",
      " [0.60292598 0.60505618 0.60659043 0.60602104 0.64099387]\n",
      " [0.60270764 0.60492914 0.60659756 0.6060344  0.64099274]\n",
      " [0.60311304 0.60484342 0.60657926 0.60605055 0.64099173]\n",
      " [0.60348367 0.60484375 0.60657381 0.60605873 0.64099079]\n",
      " [0.60361815 0.60491716 0.60656499 0.60606511 0.64098988]\n",
      " [0.60361634 0.6050557  0.6065635  0.60607551 0.64098895]\n",
      " [0.60419564 0.60535431 0.60659244 0.60609563 0.64098805]\n",
      " [0.60401644 0.6055356  0.60663403 0.6061107  0.64098708]\n",
      " [0.60360198 0.60555935 0.60664552 0.6061134  0.64098607]\n",
      " [0.6038256  0.60560098 0.6066651  0.60612034 0.64098511]\n",
      " [0.60406932 0.60569188 0.60673346 0.60612985 0.64098419]\n",
      " [0.60446081 0.6057451  0.60682314 0.60614684 0.64098329]\n",
      " [0.60446096 0.60583431 0.60691251 0.60616991 0.64098239]\n",
      " [0.60409395 0.60593303 0.60697162 0.60618807 0.64098142]\n",
      " [0.60436441 0.60604116 0.60705104 0.60621077 0.64098048]\n",
      " [0.60457353 0.60614235 0.60712814 0.60623371 0.64097952]\n",
      " [0.60481136 0.60621269 0.60720217 0.60625796 0.64097859]]\n"
     ]
    }
   ],
   "source": [
    "\n",
    "def normalise_averages(averages):\n",
    "    \n",
    "    # For every column in the pd dataframe we normalise\n",
    "    for i in averages.columns[1:]:\n",
    "        averages[i] = (averages[i] - averages[i].min()) / (averages[i].max() - averages[i].min())\n",
    "\n",
    "    return averages\n",
    "\n",
    "testing = get_averages(df)\n",
    "\n",
    "testing = normalise_averages(testing)\n",
    "# only take the data from '2024-01-03'\n",
    "# get '2024-01-03 in unix time\n",
    "# assigned regular string date\n",
    "\n",
    "\n",
    "from datetime import datetime\n",
    "import time\n",
    "\n",
    "# # Normalise the values\n",
    "\n",
    "# testing = testing.dropna()\n",
    "# testing = \n",
    "\n",
    "\n",
    "testing['datetime'] = pd.to_datetime(testing['Open time'], unit='ms') \n",
    "\n",
    "# # take only the date of '2024-01-03'\n",
    "\n",
    "testing = testing[testing['datetime'].dt.date == datetime.strptime('2024-01-03', '%Y-%m-%d').date()]\n",
    "\n",
    "# # Now test these values with the model\n",
    "\n",
    "# # Get the last seq_length values\n",
    "\n",
    "last_values = testing[['Close', 'MA5', 'MA20', 'MA60', 'MA10080']].values[-seq_length:]\n",
    "\n",
    "# # Run the values through the model\n",
    "\n",
    "last_values = last_values.reshape(1, seq_length, 5)\n",
    "\n",
    "# # Predict the mean of the next 5 closing prices\n",
    "\n",
    "last_values = model.predict(last_values)\n",
    "\n",
    "print(last_values)\n",
    "\n",
    "\n",
    "\n",
    "\n"
   ]
  }
 ],
 "metadata": {
  "kernelspec": {
   "display_name": "Python 3",
   "language": "python",
   "name": "python3"
  },
  "language_info": {
   "codemirror_mode": {
    "name": "ipython",
    "version": 3
   },
   "file_extension": ".py",
   "mimetype": "text/x-python",
   "name": "python",
   "nbconvert_exporter": "python",
   "pygments_lexer": "ipython3",
   "version": "3.12.3"
  }
 },
 "nbformat": 4,
 "nbformat_minor": 2
}
